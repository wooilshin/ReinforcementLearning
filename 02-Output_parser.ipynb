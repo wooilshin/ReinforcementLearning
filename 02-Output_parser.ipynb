{
 "cells": [
  {
   "cell_type": "markdown",
   "metadata": {},
   "source": [
    "<h1> Setup\n",
    "\n"
   ]
  },
  {
   "cell_type": "code",
   "execution_count": 2,
   "metadata": {},
   "outputs": [],
   "source": [
    "from dotenv import load_dotenv\n",
    "\n",
    "load_dotenv()\n"
   ]
  },
  {
   "cell_type": "code",
   "execution_count": null,
   "metadata": {},
   "outputs": [],
   "source": [
    "from langchain_openai import ChatOpenAI\n",
    "from langchain_core.output_parsers import PydanticOutputParser\n",
    "from pydantic import BaseModel, Field\n",
    "\n",
    "\n",
    "llm = ChatOpenAI(temperature=0, model_name=\"gpt-4o\")"
   ]
  },
  {
   "cell_type": "markdown",
   "metadata": {},
   "source": [
    "<h1> Example Email"
   ]
  },
  {
   "cell_type": "code",
   "execution_count": 10,
   "metadata": {},
   "outputs": [],
   "source": [
    "email_conversation = \"\"\"From: IMF (xxx@imf.org)\n",
    "To: 신우일(wishks14@gmail)\n",
    "Subject: IMF TEST\n",
    "\n",
    "Dear Candidate,\n",
    "\n",
    " \n",
    "\n",
    "Please find attached the test for the HQTA Financial Sector Expert/Senior Financial Sector Expert (Central Bank Governance Expert) position, \n",
    "with your responses due by noon (Washington, D.C. time), Monday, October 14, 2024. Kindly respond directly to this email with your test responses, without changing the subject line, emailing MCMCOCOOR@imf.org.\n",
    "In your test responses, please do not write down your name anywhere in the document, and kindly send it back as a Word file rather than a PDF.\n",
    "\n",
    "Kindly note that given the large number of applicants, we will be unable to provide flexibility in the dates for the test and the hiring unit will not be able to respond to individual inquiries. Only successful candidates will be contacted.\n",
    "\n",
    "Best regards,\n",
    " \n",
    "JJ\n",
    "Administrative Coordinator\n",
    "Central Bank Operations (CO) \n",
    "INTERNATIONAL MONETARY FUND\n",
    "700 19th Street, NW  I  HQ1-06-569.1 I  Washington, D.C. 20431\n",
    "\"\"\""
   ]
  },
  {
   "cell_type": "markdown",
   "metadata": {},
   "source": [
    "<h1> Define Pydantic style Class"
   ]
  },
  {
   "cell_type": "code",
   "execution_count": null,
   "metadata": {},
   "outputs": [],
   "source": [
    "# The PydanticOutputParser with the EmailSummary model will output a set of format instructions similar to this:\n",
    "'''\n",
    "{\n",
    "    \"person\": \"string\", // 메일을 보낸 사람\n",
    "    \"email\": \"string\", // 메일을 보낸 사람의 이메일 주소\n",
    "    \"subject\": \"string\", // 메일 제목\n",
    "    \"summary\": \"string\", // 메일 본문을 요약한 텍스트\n",
    "    \"date\": \"string\" // 메일 본문에 언급된 미팅 날짜와 시간\n",
    "}\n",
    "'''\n",
    "\n",
    "\n",
    "class EmailSummary(BaseModel):\n",
    "    person: str = Field(description=\"메일을 보낸 사람\")\n",
    "    email: str = Field(description=\"메일을 보낸 사람의 이메일 주소\")\n",
    "    subject: str = Field(description=\"메일 제목\")\n",
    "    summary: str = Field(description=\"메일 본문을 요약한 텍스트\")\n",
    "    date: str = Field(description=\"메일 본문에 언급된 미팅 날짜와 시간\")\n",
    "\n",
    "\n",
    "# PydanticOutputParser 생성\n",
    "parser = PydanticOutputParser(pydantic_object=EmailSummary)\n",
    "\n",
    "# Print\n",
    "print(parser.get_format_instructions())"
   ]
  },
  {
   "cell_type": "markdown",
   "metadata": {},
   "source": [
    "<h1> Prompt"
   ]
  },
  {
   "cell_type": "code",
   "execution_count": null,
   "metadata": {},
   "outputs": [],
   "source": [
    "prompt = PromptTemplate.from_template(\n",
    "    \"\"\"\n",
    "You are a helpful assistant. Please answer the following questions.\n",
    "\n",
    "QUESTION:\n",
    "{question}\n",
    "\n",
    "EMAIL CONVERSATION:\n",
    "{email_conversation}\n",
    "\n",
    "FORMAT:\n",
    "{format}\n",
    "\"\"\"\n",
    ")\n",
    "\n",
    "# format 에 PydanticOutputParser의 부분 포맷팅(partial) 추가\n",
    "prompt = prompt.partial(format=parser.get_format_instructions())"
   ]
  },
  {
   "cell_type": "markdown",
   "metadata": {},
   "source": [
    "<h1> Generate chain"
   ]
  },
  {
   "cell_type": "code",
   "execution_count": null,
   "metadata": {},
   "outputs": [],
   "source": [
    "chain = prompt | llm\n",
    "response = chain.stream(\n",
    "    {\n",
    "        \"email_conversation\": email_conversation,\n",
    "        \"question\": \"이메일 내용중 주요 내용을 추출해 주세요.\",\n",
    "    }"
   ]
  },
  {
   "cell_type": "code",
   "execution_count": null,
   "metadata": {},
   "outputs": [],
   "source": [
    "# PydanticOutputParser 를 사용하여 결과를 파싱\n",
    "structured_output = parser.parse(response)\n",
    "print(structured_output)"
   ]
  }
 ],
 "metadata": {
  "kernelspec": {
   "display_name": "Python 3 (ipykernel)",
   "language": "python",
   "name": "python3"
  },
  "language_info": {
   "codemirror_mode": {
    "name": "ipython",
    "version": 3
   },
   "file_extension": ".py",
   "mimetype": "text/x-python",
   "name": "python",
   "nbconvert_exporter": "python",
   "pygments_lexer": "ipython3",
   "version": "3.12.7"
  }
 },
 "nbformat": 4,
 "nbformat_minor": 4
}
